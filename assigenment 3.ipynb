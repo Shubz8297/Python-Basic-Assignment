{
 "cells": [
  {
   "cell_type": "raw",
   "id": "fbbf2863",
   "metadata": {},
   "source": [
    "1. Why are functions advantagious to have in your programme?.\n",
    "Ans:-Functions reduce the need for duplicate code. This makes programs shorter, easier to read, and easier to update. The main advantage of functions is code Reusability.\n"
   ]
  },
  {
   "cell_type": "raw",
   "id": "9ccce4a8",
   "metadata": {},
   "source": [
    "2. When does the code in a function run: when it's specified or when it's called?\n",
    "Ans: The code in a function executes when the function is called, not when the function is specified."
   ]
  },
  {
   "cell_type": "raw",
   "id": "43653448",
   "metadata": {},
   "source": [
    "3. What statement creates a function?\n",
    "Ans: The def statement defines a function"
   ]
  },
  {
   "cell_type": "code",
   "execution_count": 1,
   "id": "f3e5e7d1",
   "metadata": {},
   "outputs": [],
   "source": [
    "def function_name(args):\n",
    "            return args"
   ]
  },
  {
   "cell_type": "raw",
   "id": "b8e5a9cc",
   "metadata": {},
   "source": [
    "4. What is the difference between a function and a function call?"
   ]
  },
  {
   "cell_type": "raw",
   "id": "f74fabcd",
   "metadata": {},
   "source": [
    "Ans : A function is a block of code that does a particular operation and returns a result. \n",
    "while function call can defined as when we have to do any particular task then with the help of above function the function call comes in a picture."
   ]
  },
  {
   "cell_type": "raw",
   "id": "61e4e265",
   "metadata": {},
   "source": [
    "5. How many global scopes are there in a Python program? How many local scopes?"
   ]
  },
  {
   "cell_type": "raw",
   "id": "19979839",
   "metadata": {},
   "source": [
    "Ans: There is one global scope, and a local scope is created whenever a function is called."
   ]
  },
  {
   "cell_type": "raw",
   "id": "1c1105c8",
   "metadata": {},
   "source": [
    "6. What happens to variables in a local scope when the function call returns?"
   ]
  },
  {
   "cell_type": "raw",
   "id": "d09469c4",
   "metadata": {},
   "source": [
    "Ans:- When a function returns, the local scope is destroyed, and all the variables in it are forgotten."
   ]
  },
  {
   "cell_type": "raw",
   "id": "c42bf464",
   "metadata": {},
   "source": [
    "7. What is the concept of a return value? Is it possible to have a return value in an expression?"
   ]
  },
  {
   "cell_type": "raw",
   "id": "f5b0d83d",
   "metadata": {},
   "source": [
    "Ans: A return value is the value that a function call evaluates to. Like any value, a return value can be used as part of an expression."
   ]
  },
  {
   "cell_type": "raw",
   "id": "ad0bcee4",
   "metadata": {},
   "source": [
    "8. If a function does not have a return statement, what is the return value of a call to that function?"
   ]
  },
  {
   "cell_type": "raw",
   "id": "9a3061d5",
   "metadata": {},
   "source": [
    "Ans : If there is no return statement for a function,it does not give any result"
   ]
  },
  {
   "cell_type": "raw",
   "id": "b2956986",
   "metadata": {},
   "source": [
    "9. How do you make a function variable refer to the global variable?"
   ]
  },
  {
   "cell_type": "raw",
   "id": "59bfc050",
   "metadata": {},
   "source": [
    "Ans: A global statement will force a variable in a function to refer to the global variable. If you want to refer to a global variable in a function, you can use the global keyword to declare which variables are global."
   ]
  },
  {
   "cell_type": "raw",
   "id": "eeb4cb68",
   "metadata": {},
   "source": [
    "10. What is the data type of None?"
   ]
  },
  {
   "cell_type": "raw",
   "id": "10c0e9f4",
   "metadata": {},
   "source": [
    "Ans: The data type of None is NoneType."
   ]
  },
  {
   "cell_type": "raw",
   "id": "852f29f4",
   "metadata": {},
   "source": [
    "11. What does the sentence import areallyourpetsnamederic do?"
   ]
  },
  {
   "cell_type": "raw",
   "id": "9653727a",
   "metadata": {},
   "source": [
    "Ans: That import statement imports a module named areallyourpetsnamederic."
   ]
  },
  {
   "cell_type": "raw",
   "id": "5d2541e6",
   "metadata": {},
   "source": [
    "12. If you had a bacon() feature in a spam module, what would you call it after importing spam?"
   ]
  },
  {
   "cell_type": "raw",
   "id": "ea10bd2a",
   "metadata": {},
   "source": [
    "Ans: This function can be called with spam.bacon()."
   ]
  },
  {
   "cell_type": "raw",
   "id": "95c7cac6",
   "metadata": {},
   "source": [
    "13. What can you do to save a programme from crashing if it encounters an error?"
   ]
  },
  {
   "cell_type": "raw",
   "id": "67afeb90",
   "metadata": {},
   "source": [
    "Ans: Place the line of code that might cause an error in a try clause and use except block to handle the error."
   ]
  },
  {
   "cell_type": "raw",
   "id": "3da9abf2",
   "metadata": {},
   "source": [
    "14. What is the purpose of the try clause? What is the purpose of the except clause?"
   ]
  },
  {
   "cell_type": "raw",
   "id": "ce155a40",
   "metadata": {},
   "source": [
    "Ans:The code that could potentially cause an error goes in the try clause. The code that executes if an error happens goes in the except clause."
   ]
  }
 ],
 "metadata": {
  "kernelspec": {
   "display_name": "Python 3 (ipykernel)",
   "language": "python",
   "name": "python3"
  },
  "language_info": {
   "codemirror_mode": {
    "name": "ipython",
    "version": 3
   },
   "file_extension": ".py",
   "mimetype": "text/x-python",
   "name": "python",
   "nbconvert_exporter": "python",
   "pygments_lexer": "ipython3",
   "version": "3.9.7"
  }
 },
 "nbformat": 4,
 "nbformat_minor": 5
}
