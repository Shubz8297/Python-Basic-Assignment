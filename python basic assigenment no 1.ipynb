{
 "cells": [
  {
   "cell_type": "raw",
   "id": "e6af9808",
   "metadata": {},
   "source": [
    "1. In the below elements which of them are values or an expression? eg:- values can be\n",
    "integer or string and expressions will be mathematical operators.\n",
    "*\n",
    "'hello'\n",
    "\n",
    "-87.8\n",
    "\n",
    "-\n",
    "\n",
    "/\n",
    "\n",
    "+\n",
    "\n",
    "6\n",
    "Ans:-\n",
    "      values =  -87.8 , 6 , \"hello\".\n",
    "    \n",
    "      expressions = - , / , + , * .  \n",
    "\n",
    "\n"
   ]
  },
  {
   "cell_type": "raw",
   "id": "7067b239",
   "metadata": {},
   "source": [
    "2. What is the difference between string and variable?\n",
    "Ans:-A Variable is a store of information , and a String is a type of information you would store in variable.\n",
    "    A String is usually words,enclosed with \"\"."
   ]
  },
  {
   "cell_type": "raw",
   "id": "c2eec4f4",
   "metadata": {},
   "source": [
    "3. Describe three different data types.\n",
    "Ans:- i) Numeric data type: \n",
    "         Data having numeric values is known as Numeric data types.\n",
    "         numeric value can be integer , complex no. , or float no.\n",
    " \n",
    "      ii) Sequence data type:\n",
    "          Sequence is ordered collection of similar or different data types. sequences allows us to store multiple values in organized and efficient way.\n",
    "          Types of sequences in python are such as List , Tuple , or String etc.\n",
    "\n",
    "      iii) Boolean data type:\n",
    "           There can be only two types of value in the Boolean data type of Python, and that is True or False. \n"
   ]
  },
  {
   "cell_type": "raw",
   "id": "02292304",
   "metadata": {},
   "source": [
    "4. What is an expression made up of? What do all expressions do?\n",
    "Ans:- An expression is a combination of operators and operands that is interpreted to produce some other value.\n",
    "   a) Arithmetic Expression = An arithmetic expression is a combination of numeric values, operators, and sometimes       parenthesis. \n",
    "     The result of this type of expression is also a numeric value. \n",
    "     The operators used in these expressions are arithmetic operators like addition, subtraction, multiplication ,Exponentiation etc. \n",
    "\n",
    "   b) Integral Expressions = These are the kind of expressions that produce only integer results after all computations and type conversions.\n",
    "\n",
    "   c)Floating Expressions = These are the kind of expressions which produce floating point numbers as result after all computations and type conversions.\n",
    "\n",
    "   d) Logical Expressions = These are kinds of expressions that result in either True or False. It basically specifies one or more conditions.           "
   ]
  },
  {
   "cell_type": "raw",
   "id": "d5135aae",
   "metadata": {},
   "source": [
    "5. This assignment statements, like spam = 10. What is the difference between an\n",
    "expression and a statement?\n",
    "\n",
    "Ans:\n",
    "\n",
    "Expression = expressions always returns a value or we can say that anything that evaluates to something is known as expression.\n",
    "expression can print the result value.\n",
    "eg. 'Anu'+ 'mit' , 8-5 etc.\n",
    "\n",
    "Statement = statment nevar return a value or we can say that anything that does the something is known as statment.\n",
    "statement does not print the result value.\n",
    "eg. loops , assignment statements , def , pass , continue , conditional statements etc."
   ]
  },
  {
   "cell_type": "raw",
   "id": "fc4f19f1",
   "metadata": {},
   "source": [
    "6. After running the following code, what does the variable bacon contain?\n",
    "bacon = 22\n",
    "bacon + 1\n",
    "\n",
    "Ans:"
   ]
  },
  {
   "cell_type": "code",
   "execution_count": 1,
   "id": "4fc236f4",
   "metadata": {},
   "outputs": [
    {
     "name": "stdout",
     "output_type": "stream",
     "text": [
      "bacon 23\n"
     ]
    }
   ],
   "source": [
    "bacon=22\n",
    "bacon+1\n",
    "print(\"bacon\" , bacon+1)"
   ]
  },
  {
   "cell_type": "raw",
   "id": "7be617e7",
   "metadata": {},
   "source": [
    "7. What should the values of the following two terms be?\n",
    "'Spam'+'SpamSpam'\n",
    "'Spam'*3"
   ]
  },
  {
   "cell_type": "code",
   "execution_count": 2,
   "id": "228d886c",
   "metadata": {},
   "outputs": [
    {
     "data": {
      "text/plain": [
       "'spamspamspam'"
      ]
     },
     "execution_count": 2,
     "metadata": {},
     "output_type": "execute_result"
    }
   ],
   "source": [
    "\"spam\"+\"spamspam\""
   ]
  },
  {
   "cell_type": "code",
   "execution_count": 3,
   "id": "4909bbc5",
   "metadata": {},
   "outputs": [
    {
     "data": {
      "text/plain": [
       "'spamspamspam'"
      ]
     },
     "execution_count": 3,
     "metadata": {},
     "output_type": "execute_result"
    }
   ],
   "source": [
    "\"spam\"*3"
   ]
  },
  {
   "cell_type": "raw",
   "id": "3a34b8c7",
   "metadata": {},
   "source": [
    "8. Why is eggs a valid variable name while 100 is invalid?\n",
    "Ans:- We cannot start with variable name as integer . but we can start like eggs100. & "
   ]
  },
  {
   "cell_type": "raw",
   "id": "613331eb",
   "metadata": {},
   "source": [
    "9.What three functions can be used to get the integer, floating-point number, or string\n",
    "version of a value?\n",
    "Ans:- str() , float() , int()"
   ]
  },
  {
   "cell_type": "raw",
   "id": "c571cd63",
   "metadata": {},
   "source": [
    "10. Why does this expression cause an error? How can you fix it?\n",
    "'i have eaten'+99+'burritos'\n",
    "Ans:- We cannot concatinate (str) with (int).To concatinate (str) with (int) we have to do typecasting."
   ]
  },
  {
   "cell_type": "code",
   "execution_count": null,
   "id": "f518c17a",
   "metadata": {},
   "outputs": [],
   "source": []
  }
 ],
 "metadata": {
  "kernelspec": {
   "display_name": "Python 3 (ipykernel)",
   "language": "python",
   "name": "python3"
  },
  "language_info": {
   "codemirror_mode": {
    "name": "ipython",
    "version": 3
   },
   "file_extension": ".py",
   "mimetype": "text/x-python",
   "name": "python",
   "nbconvert_exporter": "python",
   "pygments_lexer": "ipython3",
   "version": "3.9.7"
  }
 },
 "nbformat": 4,
 "nbformat_minor": 5
}
